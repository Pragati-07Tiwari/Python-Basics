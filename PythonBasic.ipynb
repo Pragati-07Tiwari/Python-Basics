{
  "cells": [
    {
      "cell_type": "markdown",
      "metadata": {
        "id": "xDg58wCI7upH"
      },
      "source": []
    },
    {
      "cell_type": "markdown",
      "metadata": {
        "id": "CCCAYLeV8FOI"
      },
      "source": [
        "#Python_Basic_Questions\n",
        "\n",
        "1. What is Python, and why is it popular ?\n",
        "\n",
        "   --> Python is a high-level, easy-to-learn programming language known for its simple syntax and readability and it is an interpreted language, meaning its code is executed line by line by the Python interpreter — this makes it easier to test and debug programs quickly.\n",
        "\n",
        "   -->It has vast libraries and is widely used in web development, data analysis, AI, and automation.\n",
        "\n",
        "\n",
        "2.   What is an interpreter in Python ?\n",
        "\n",
        "     -->An interpreter in Python is a program that reads and executes Python code line by line.\n",
        "\n",
        "     -->It converts the source code into machine-readable instructions at runtime, allowing the program to run without needing prior compilation.\n",
        "\n",
        "3. What are pre-defined keywords in Python?\n",
        "\n",
        "   -->Pre-defined keywords in Python are reserved words that have special meanings and purposes in the language. They cannot be used as variable names or identifiers.  \n",
        "\n",
        "     #example\n",
        "\n",
        "     -if,else,for,while,true,none,def etc.\n",
        "\n",
        "\n",
        "4.   Can keywords be used as variable names?\n",
        "\n",
        "     -->No, keywords can not be used as variable names.\n",
        "\n",
        "5. What is mutability in Python ?\n",
        "    \n",
        "     -->In python mutability means object's value can be changed after creation.\n",
        "\n",
        "      #example\n",
        "\n",
        "      -list dict  sets etc.\n",
        "6. Why are lists mutable, but tuples are immutable ?\n",
        "    \n",
        "     -->Lists are mutable because their elements can be changed added or removed after creation.\n",
        "\n",
        "     #example\n",
        "\n",
        "     list=[\"hii\",34]\n",
        "     list[1]=\"hello\"---it is valid\n",
        "     print(list)\n",
        "\n",
        "     -->Tuples are immutable because their elements cant be modified once it is created.\n",
        "     \n",
        "     #example\n",
        "\n",
        "     tuple=(1,2,3,4)\n",
        "     tuple[2]=5--- not allowed\n",
        "\n",
        "7.   What is the difference between “==” and “is” operators in Python ?\n",
        "    \n",
        "      -->The “==” operator checks if two values are equal.\n",
        "\n",
        "      -->The “is” operator checks if two variables refer to the same object in memory.\n",
        "      \n",
        "      \n",
        "      #example\n",
        "\n",
        "      a = [1, 2, 3]\n",
        "\n",
        "      b = [1, 2, 3]\n",
        "\n",
        "      print(a == b)  # True  → values are equal\n",
        "\n",
        "      print(a is b)  # False → different memory locations for a and b\n",
        "      \n",
        "\n",
        "8.   What are logical operators in Python ?\n",
        "\n",
        "      -->Logical operators in Python are used to combine conditional statements and return a Boolean value (True or False).\n",
        "\n",
        "      -->The three logical operators are:\n",
        "\n",
        "     1: and → Returns True if both conditions are true\n",
        "\n",
        "     2: or → Returns True if at least one condition is true\n",
        "\n",
        "     3: not → Reverses the result (True becomes False, and vice versa)\n",
        "\n",
        "9.   What is type casting in Python ?\n",
        "  \n",
        "     -->Type casting in Python is the process of converting a variable from one data type to another.\n",
        "\n",
        "\n",
        "10.  What is the difference between implicit and explicit type casting?\n",
        "\n",
        "     -->The difference between implicit and explicit type casting in Python is:\n",
        "\n",
        "      1. Implicit Type Casting (Type Conversion):\n",
        "\n",
        "      -Done automatically by Python.\n",
        "\n",
        "      -Converts a smaller data type to a larger data type to avoid data loss.\n",
        "\n",
        "      #example\n",
        "\n",
        "      x = 5       # int\n",
        "\n",
        "      y = 2.0     # float\n",
        "\n",
        "      z = x + y   # int automatically converted to float\n",
        "\n",
        "      print(z)    # Output: 7.0\n",
        "\n",
        "     2. Explicit Type Casting (Type Conversion):\n",
        "\n",
        "     -Done manually by the programmer using functions like str(),float(),int()\n",
        "\n",
        "     #example\n",
        "\n",
        "     x = \"10\"\n",
        "\n",
        "     y = int(x)  # string explicitly converted to integer\n",
        "\n",
        "     print(y + 5)  # Output: 15\n",
        "\n",
        "\n",
        " 11.   What is the purpose of conditional statements in Python ?\n",
        "      \n",
        "       -->The purpose of conditional statements in Python is to execute certain blocks of code based on whether a condition is True or False. They allow programs to make decisions and control the flow of execution.\n",
        "\n",
        "       #example\n",
        "\n",
        "        x = 10\n",
        "\n",
        "        if x > 5:\n",
        "\n",
        "          print(\"x is greater than 5\")\n",
        "\n",
        "        else:\n",
        "\n",
        "          print(\"x is 5 or less\")\n",
        "\n",
        "\n",
        "\n",
        "12.   How does the elif statement work ?\n",
        "\n",
        "      -->The elif statement in Python stands for “else if” and allows you to check multiple conditions after an initial if. Python executes the first condition that is True and skips the rest.\n",
        "\n",
        "\n",
        "      #example\n",
        "\n",
        "      x = 20\n",
        "\n",
        "      if x < 10:\n",
        "\n",
        "      print(\"x is less than 10\")\n",
        "         \n",
        "      elif x < 30:\n",
        "\n",
        "      print(\"x is less than 30\")  -- This runs\n",
        "\n",
        "      else:\n",
        "\n",
        "      print(\"x is 30 or more\")\n",
        "\n",
        "\n",
        "\n",
        "13.   What is the difference between for and while loops ?\n",
        "\n",
        "      -->For loop->Used when the number of iterations is known or when iterating over a sequence (like list, string).\n",
        "\n",
        "      -->Iterates over items in a sequence or range.\n",
        "\n",
        "      #example\n",
        "\n",
        "      for i in range(5): print(i)\n",
        "\n",
        "      -->While loop->Used when the number of iterations is unknown and depends on a condition.\n",
        "\n",
        "      -->Continues as long as a condition is True.\n",
        "\n",
        "      #example\n",
        "\n",
        "      i = 0\\nwhile i < 5: print(i); i += 1\n",
        "\n",
        "  \n",
        "\n",
        "14.   Describe a scenario where a while loop is more suitable than a for loop.\n",
        "      \n",
        "      -->A while loop is more suitable when the number of iterations is unknown in advance and depends on a condition.\n",
        "\n",
        "      -->Scenario: Keep asking the user for a number until they enter 0.\n",
        "\n",
        "      #example\n",
        "\n",
        "      num = 1\n",
        "\n",
        "      while num != 0:\n",
        "\n",
        "      num = int(input(\"Enter a number (0 to stop): \"))\n",
        "      \n",
        "      print(\"You entered:\", num)\n",
        "\n",
        "\n",
        "\n",
        "\n",
        "\n"
      ]
    },
    {
      "cell_type": "code",
      "execution_count": null,
      "metadata": {
        "id": "DlHYaSbiIW-o"
      },
      "outputs": [],
      "source": []
    },
    {
      "cell_type": "markdown",
      "metadata": {
        "id": "Skq4YbNbIYwt"
      },
      "source": [
        "#Practical Questions\n"
      ]
    },
    {
      "cell_type": "code",
      "execution_count": null,
      "metadata": {
        "colab": {
          "base_uri": "https://localhost:8080/"
        },
        "id": "vzDPTnBvIgJy",
        "outputId": "3f921ab8-35b9-433f-8b07-969888b39266"
      },
      "outputs": [
        {
          "name": "stdout",
          "output_type": "stream",
          "text": [
            "hello, world\n"
          ]
        }
      ],
      "source": [
        "# 1. Write a Python program to print \"Hello, World!\".\n",
        "text=\"hello, world\"\n",
        "print(text)\n"
      ]
    },
    {
      "cell_type": "code",
      "execution_count": null,
      "metadata": {
        "colab": {
          "base_uri": "https://localhost:8080/"
        },
        "id": "6BUXOxTZJD-w",
        "outputId": "e3d6ea39-8e13-4dd0-9b1f-947c785227d7"
      },
      "outputs": [
        {
          "name": "stdout",
          "output_type": "stream",
          "text": [
            "enter your name: Pragati \n",
            "enter your age: 20\n",
            "Pragati \n",
            "20\n"
          ]
        }
      ],
      "source": [
        "# 2.Write a Python program that displays your name and age.\n",
        "name=input(\"enter your name: \")\n",
        "age=int(input(\"enter your age: \"))\n",
        "print(name)\n",
        "print(age)"
      ]
    },
    {
      "cell_type": "code",
      "execution_count": null,
      "metadata": {
        "colab": {
          "base_uri": "https://localhost:8080/"
        },
        "id": "bmF5m-XlJW83",
        "outputId": "bbf0b877-765c-4a9a-9666-45d535f45d60"
      },
      "outputs": [
        {
          "name": "stdout",
          "output_type": "stream",
          "text": [
            "['False', 'None', 'True', 'and', 'as', 'assert', 'async', 'await', 'break', 'class', 'continue', 'def', 'del', 'elif', 'else', 'except', 'finally', 'for', 'from', 'global', 'if', 'import', 'in', 'is', 'lambda', 'nonlocal', 'not', 'or', 'pass', 'raise', 'return', 'try', 'while', 'with', 'yield']\n"
          ]
        }
      ],
      "source": [
        "# 3. Write code to print all the pre-defined keywords in Python using the keyword library.\n",
        "import keyword\n",
        "print(keyword.kwlist)"
      ]
    },
    {
      "cell_type": "code",
      "execution_count": null,
      "metadata": {
        "colab": {
          "base_uri": "https://localhost:8080/"
        },
        "id": "vgOKQII6JjmB",
        "outputId": "e2dadddb-20c1-4536-e592-8e8df762f4af"
      },
      "outputs": [
        {
          "name": "stdout",
          "output_type": "stream",
          "text": [
            "enter a word: True\n",
            "True is a keyword\n"
          ]
        }
      ],
      "source": [
        "# 4.Write a program that checks if a given word is a Python keyword.\n",
        "import keyword\n",
        "word=input(\"enter a word: \")\n",
        "if keyword.iskeyword(word):\n",
        "  print(word,\"is a keyword\")\n",
        "else:\n",
        "  print(word,\"is not a keyword\")"
      ]
    },
    {
      "cell_type": "code",
      "execution_count": null,
      "metadata": {
        "colab": {
          "base_uri": "https://localhost:8080/",
          "height": 228
        },
        "id": "BvF5EgQ4JyBp",
        "outputId": "3ed42b24-af55-4738-b87d-6a5f7e31a3e5"
      },
      "outputs": [
        {
          "name": "stdout",
          "output_type": "stream",
          "text": [
            "['hii', 1, 'hello', 3]\n"
          ]
        },
        {
          "ename": "TypeError",
          "evalue": "'tuple' object does not support item assignment",
          "output_type": "error",
          "traceback": [
            "\u001b[0;31m---------------------------------------------------------------------------\u001b[0m",
            "\u001b[0;31mTypeError\u001b[0m                                 Traceback (most recent call last)",
            "\u001b[0;32m/tmp/ipython-input-3327295301.py\u001b[0m in \u001b[0;36m<cell line: 0>\u001b[0;34m()\u001b[0m\n\u001b[1;32m      6\u001b[0m \u001b[0;31m# -----------------\u001b[0m\u001b[0;34m\u001b[0m\u001b[0;34m\u001b[0m\u001b[0m\n\u001b[1;32m      7\u001b[0m \u001b[0mtuple\u001b[0m\u001b[0;34m=\u001b[0m\u001b[0;34m(\u001b[0m\u001b[0;34m\"hii\"\u001b[0m\u001b[0;34m,\u001b[0m\u001b[0;36m1\u001b[0m\u001b[0;34m,\u001b[0m\u001b[0;36m2\u001b[0m\u001b[0;34m,\u001b[0m\u001b[0;36m3\u001b[0m\u001b[0;34m)\u001b[0m\u001b[0;34m\u001b[0m\u001b[0;34m\u001b[0m\u001b[0m\n\u001b[0;32m----> 8\u001b[0;31m \u001b[0mtuple\u001b[0m\u001b[0;34m[\u001b[0m\u001b[0;36m2\u001b[0m\u001b[0;34m]\u001b[0m\u001b[0;34m=\u001b[0m\u001b[0;34m\"hello\"\u001b[0m\u001b[0;34m\u001b[0m\u001b[0;34m\u001b[0m\u001b[0m\n\u001b[0m\u001b[1;32m      9\u001b[0m \u001b[0mprint\u001b[0m\u001b[0;34m(\u001b[0m\u001b[0mtuple\u001b[0m\u001b[0;34m)\u001b[0m\u001b[0;34m\u001b[0m\u001b[0;34m\u001b[0m\u001b[0m\n\u001b[1;32m     10\u001b[0m \u001b[0;31m#\u001b[0m\u001b[0;34m\u001b[0m\u001b[0;34m\u001b[0m\u001b[0m\n",
            "\u001b[0;31mTypeError\u001b[0m: 'tuple' object does not support item assignment"
          ]
        }
      ],
      "source": [
        "# 5. Create a list and tuple in Python, and demonstrate how attempting to change an element works differently\n",
        "# for each.\n",
        "list=[\"hii\",1,2,3]\n",
        "list[2]=\"hello\"\n",
        "print(list)\n",
        "# -----------------\n",
        "tuple=(\"hii\",1,2,3)\n",
        "tuple[2]=\"hello\"\n",
        "print(tuple)\n"
      ]
    },
    {
      "cell_type": "code",
      "execution_count": null,
      "metadata": {
        "colab": {
          "base_uri": "https://localhost:8080/"
        },
        "id": "dSl_SvQvKRpM",
        "outputId": "fb6aef93-7f1c-49cf-b48d-cc65acdde9ff"
      },
      "outputs": [
        {
          "name": "stdout",
          "output_type": "stream",
          "text": [
            "(10, [1, 2, 3, 4, 10])\n",
            "5 [1, 2, 3, 4, 10]\n"
          ]
        }
      ],
      "source": [
        "# 6. Write a function to demonstrate the behavior of mutable and immutable arguments.\n",
        "def demo(a,b):\n",
        "  a+=5\n",
        "  b.append(10)\n",
        "  return a,b\n",
        "\n",
        "num=5\n",
        "lst=[1,2,3,4]\n",
        "print(demo(num,lst))\n",
        "print(num,lst)"
      ]
    },
    {
      "cell_type": "code",
      "execution_count": null,
      "metadata": {
        "colab": {
          "base_uri": "https://localhost:8080/"
        },
        "id": "1G2PFwn2Hgdp",
        "outputId": "cd69f19a-93bc-4971-eefd-f4e58ac7ecae"
      },
      "outputs": [
        {
          "name": "stdout",
          "output_type": "stream",
          "text": [
            "enter 1st number:48\n",
            "enter 2nd number:24\n",
            "72\n",
            "24\n",
            "1152\n",
            "2.0\n"
          ]
        }
      ],
      "source": [
        "# 7.Write a program that performs basic arithmetic operations on two user-input numbers.\n",
        "num1=int(input(\"enter 1st number:\"))\n",
        "num2=int(input(\"enter 2nd number:\"))\n",
        "print(num1+num2)\n",
        "print(num1-num2)\n",
        "print(num1*num2)\n",
        "print(num1/num2)\n",
        "\n"
      ]
    },
    {
      "cell_type": "markdown",
      "metadata": {
        "id": "vYN_x9Ep7v4L"
      },
      "source": []
    },
    {
      "cell_type": "code",
      "execution_count": null,
      "metadata": {
        "colab": {
          "base_uri": "https://localhost:8080/"
        },
        "id": "sFs8Yfv5IWLG",
        "outputId": "39903b27-1a9a-4a08-88b4-85a5e2ca6eeb"
      },
      "outputs": [
        {
          "name": "stdout",
          "output_type": "stream",
          "text": [
            "True\n",
            "True\n",
            "False\n"
          ]
        }
      ],
      "source": [
        "\n",
        "# 8. Write a program to demonstrate the use of logical operators.\n",
        "a=10\n",
        "b=9\n",
        "c=4\n",
        "# AND operators\n",
        "print(a>b and b>c)\n",
        "# OR operator\n",
        "print(a>b or c>b)\n",
        "# NOT operator\n",
        "print(not(a>b))"
      ]
    },
    {
      "cell_type": "code",
      "execution_count": null,
      "metadata": {
        "colab": {
          "base_uri": "https://localhost:8080/",
          "height": 228
        },
        "id": "3fTc5le6JgiD",
        "outputId": "dbf8f887-3018-4389-c0cb-c4edbecb694c"
      },
      "outputs": [
        {
          "name": "stdout",
          "output_type": "stream",
          "text": [
            "enter a string: hii\n"
          ]
        },
        {
          "ename": "ValueError",
          "evalue": "invalid literal for int() with base 10: 'hii'",
          "output_type": "error",
          "traceback": [
            "\u001b[0;31m---------------------------------------------------------------------------\u001b[0m",
            "\u001b[0;31mValueError\u001b[0m                                Traceback (most recent call last)",
            "\u001b[0;32m/tmp/ipython-input-3526868507.py\u001b[0m in \u001b[0;36m<cell line: 0>\u001b[0;34m()\u001b[0m\n\u001b[1;32m      1\u001b[0m \u001b[0;31m# 9.Write a Python program to convert user input from string to integer, float, and boolean types.\u001b[0m\u001b[0;34m\u001b[0m\u001b[0;34m\u001b[0m\u001b[0m\n\u001b[1;32m      2\u001b[0m \u001b[0mstr\u001b[0m\u001b[0;34m=\u001b[0m\u001b[0minput\u001b[0m\u001b[0;34m(\u001b[0m\u001b[0;34m\"enter a string: \"\u001b[0m\u001b[0;34m)\u001b[0m\u001b[0;34m\u001b[0m\u001b[0;34m\u001b[0m\u001b[0m\n\u001b[0;32m----> 3\u001b[0;31m \u001b[0mprint\u001b[0m\u001b[0;34m(\u001b[0m\u001b[0mint\u001b[0m\u001b[0;34m(\u001b[0m\u001b[0mstr\u001b[0m\u001b[0;34m)\u001b[0m\u001b[0;34m)\u001b[0m\u001b[0;34m\u001b[0m\u001b[0;34m\u001b[0m\u001b[0m\n\u001b[0m\u001b[1;32m      4\u001b[0m \u001b[0mprint\u001b[0m\u001b[0;34m(\u001b[0m\u001b[0mfloat\u001b[0m\u001b[0;34m(\u001b[0m\u001b[0mstr\u001b[0m\u001b[0;34m)\u001b[0m\u001b[0;34m)\u001b[0m\u001b[0;34m\u001b[0m\u001b[0;34m\u001b[0m\u001b[0m\n\u001b[1;32m      5\u001b[0m \u001b[0mprint\u001b[0m\u001b[0;34m(\u001b[0m\u001b[0mbool\u001b[0m\u001b[0;34m(\u001b[0m\u001b[0mstr\u001b[0m\u001b[0;34m)\u001b[0m\u001b[0;34m)\u001b[0m\u001b[0;34m\u001b[0m\u001b[0;34m\u001b[0m\u001b[0m\n",
            "\u001b[0;31mValueError\u001b[0m: invalid literal for int() with base 10: 'hii'"
          ]
        }
      ],
      "source": [
        "# 9.Write a Python program to convert user input from string to integer, float, and boolean types.\n",
        "num=str(input(\"enter a  string:\"))\n",
        "print(int(num))\n",
        "print(float(num))\n",
        "print(bool(num))\n",
        "\n"
      ]
    },
    {
      "cell_type": "code",
      "execution_count": null,
      "metadata": {
        "colab": {
          "base_uri": "https://localhost:8080/"
        },
        "id": "FQUKSnfMKduR",
        "outputId": "5e3ba691-d7c4-41b3-aadc-c46bd8ae848a"
      },
      "outputs": [
        {
          "name": "stdout",
          "output_type": "stream",
          "text": [
            "[1, 2, 3, 4]\n",
            "(1, 2, 3, 4)\n"
          ]
        }
      ],
      "source": [
        "# 10. Write code to demonstrate type casting with list elements.\n",
        "list=[1,2,3,4]\n",
        "print((list))\n",
        "p=tuple(list)\n",
        "print(p)"
      ]
    },
    {
      "cell_type": "code",
      "execution_count": null,
      "metadata": {
        "colab": {
          "base_uri": "https://localhost:8080/"
        },
        "id": "SG8tUJT-LWCI",
        "outputId": "0d1c4b1f-262a-4a6d-b3af-1acdc9091651"
      },
      "outputs": [
        {
          "name": "stdout",
          "output_type": "stream",
          "text": [
            "enter a number:3\n",
            "it is positive! \n"
          ]
        }
      ],
      "source": [
        "# 11.  Write a program that checks if a number is positive, negative, or zero.\n",
        "num=int(input(\"enter a number:\"))\n",
        "if num>0:\n",
        "  print(\"it is positive! \")\n",
        "elif num<0:\n",
        "     print(\"it is negetive! \")\n",
        "else:\n",
        "  print(\"Zero!\")"
      ]
    },
    {
      "cell_type": "code",
      "execution_count": null,
      "metadata": {
        "colab": {
          "base_uri": "https://localhost:8080/"
        },
        "id": "4AVK8zFRL_8G",
        "outputId": "1a693178-e275-42d8-8367-21c9d1bf04f7"
      },
      "outputs": [
        {
          "name": "stdout",
          "output_type": "stream",
          "text": [
            "1\n",
            "2\n",
            "3\n",
            "4\n",
            "5\n",
            "6\n",
            "7\n",
            "8\n",
            "9\n",
            "10\n"
          ]
        }
      ],
      "source": [
        "# 12.Write a for loop to print numbers from 1 to 10.\n",
        "for i in range(1,11):\n",
        "  print(i)"
      ]
    },
    {
      "cell_type": "markdown",
      "metadata": {
        "id": "1tvK-b2RMZS9"
      },
      "source": [
        "\n"
      ]
    },
    {
      "cell_type": "code",
      "execution_count": null,
      "metadata": {
        "colab": {
          "base_uri": "https://localhost:8080/"
        },
        "id": "LLLgymX-MPCY",
        "outputId": "07bc611e-687c-4356-ba29-92c7c0ced9c1"
      },
      "outputs": [
        {
          "name": "stdout",
          "output_type": "stream",
          "text": [
            "sum of all even no.are : 650\n"
          ]
        }
      ],
      "source": [
        "# 13. Write a Python program to find the sum of all even numbers between 1 and 50.\n",
        "sum=0\n",
        "for i in range(1,51):\n",
        "  if i % 2==0:\n",
        "    sum+=i\n",
        "print(\"sum of all even no.are :\",sum)\n"
      ]
    },
    {
      "cell_type": "code",
      "execution_count": null,
      "metadata": {
        "colab": {
          "base_uri": "https://localhost:8080/"
        },
        "id": "qvrvqHgxN7RL",
        "outputId": "fb7c8872-7514-406a-bd1b-da997898c05b"
      },
      "outputs": [
        {
          "name": "stdout",
          "output_type": "stream",
          "text": [
            "Reversed string: itagarp\n"
          ]
        }
      ],
      "source": [
        "# 14. Write a program to reverse a string using a while loop.\n",
        "text = \"pragati\"\n",
        "reversed_text = \"\"\n",
        "i = len(text) - 1\n",
        "\n",
        "while i >= 0:\n",
        "    reversed_text += text[i]\n",
        "    i -= 1\n",
        "\n",
        "print(\"Reversed string:\", reversed_text)\n",
        "\n",
        "\n"
      ]
    },
    {
      "cell_type": "code",
      "execution_count": 30,
      "metadata": {
        "id": "AyWqUnvb7CJM",
        "colab": {
          "base_uri": "https://localhost:8080/"
        },
        "outputId": "8dd35bf7-4b9b-4474-a076-4ef97703cd9f"
      },
      "outputs": [
        {
          "output_type": "stream",
          "name": "stdout",
          "text": [
            "Enter a number: 5\n",
            "The factorial of 5 is 120\n"
          ]
        }
      ],
      "source": [
        "# 15.Write a Python program to calculate the factorial of a number provided by the user using a while loop.\n",
        "num = int(input(\"Enter a number: \"))\n",
        "fact = 1\n",
        "i = 1\n",
        "\n",
        "while i <= num:\n",
        "    fact = fact*i\n",
        "    i += 1\n",
        "\n",
        "print(f\"The factorial of {num} is {fact}\")"
      ]
    },
    {
      "cell_type": "markdown",
      "metadata": {
        "id": "eUJhu_Zj7D2A"
      },
      "source": [
        "<!--Python Basics Questions -->"
      ]
    }
  ],
  "metadata": {
    "colab": {
      "provenance": []
    },
    "kernelspec": {
      "display_name": "Python 3",
      "name": "python3"
    },
    "language_info": {
      "name": "python"
    }
  },
  "nbformat": 4,
  "nbformat_minor": 0
}